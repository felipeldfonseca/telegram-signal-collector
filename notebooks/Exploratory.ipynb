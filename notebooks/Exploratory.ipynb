{
 "cells": [
  {
   "cell_type": "raw",
   "metadata": {
    "vscode": {
     "languageId": "raw"
    }
   },
   "source": [
    "# 📊 Análise de Sinais do Telegram\n",
    "\n",
    "Este notebook analisa os dados coletados pelo **Telegram Signal Collector**.\n",
    "\n",
    "## 🎯 Objetivos\n",
    "- Carregar dados do PostgreSQL ou CSV\n",
    "- Calcular estatísticas de performance\n",
    "- Simular P&L com gestão Martingale (1-2-4)\n",
    "- Visualizar resultados e tendências\n"
   ]
  },
  {
   "cell_type": "code",
   "execution_count": 9,
   "metadata": {},
   "outputs": [
    {
     "name": "stdout",
     "output_type": "stream",
     "text": [
      "CWD = /Users/felipefonseca/Library/Mobile Documents/com~apple~CloudDocs/Felipe/Files/Projects/Telegram Signal Collector/notebooks\n",
      "Existe CSV? False\n"
     ]
    }
   ],
   "source": [
    "import os, sys, pathlib, glob\n",
    "print(\"CWD =\", os.getcwd())           # diretório em que o kernel está rodando\n",
    "print(\"Existe CSV?\", pathlib.Path(\"data\").exists())   # deve dar False"
   ]
  },
  {
   "cell_type": "code",
   "execution_count": 2,
   "metadata": {},
   "outputs": [
    {
     "name": "stdout",
     "output_type": "stream",
     "text": [
      "📊 Ambiente configurado!\n"
     ]
    }
   ],
   "source": [
    "# Imports necessários\n",
    "import sys\n",
    "import pandas as pd\n",
    "import numpy as np\n",
    "import matplotlib.pyplot as plt\n",
    "import seaborn as sns\n",
    "from datetime import datetime, timedelta\n",
    "import warnings\n",
    "warnings.filterwarnings('ignore')\n",
    "\n",
    "# Adicionar collector ao path\n",
    "sys.path.append('../')\n",
    "from collector import Config, Storage\n",
    "\n",
    "# Configuração de gráficos\n",
    "plt.style.use('seaborn-v0_8')\n",
    "sns.set_palette(\"husl\")\n",
    "%matplotlib inline\n",
    "\n",
    "print(\"📊 Ambiente configurado!\")\n"
   ]
  },
  {
   "cell_type": "raw",
   "metadata": {
    "vscode": {
     "languageId": "raw"
    }
   },
   "source": [
    "## 📥 Carregar Dados\n"
   ]
  },
  {
   "cell_type": "code",
   "execution_count": 10,
   "metadata": {},
   "outputs": [
    {
     "name": "stdout",
     "output_type": "stream",
     "text": [
      "📊 Carregando dados de: CSV\n"
     ]
    }
   ],
   "source": [
    "# Configuração\n",
    "config = Config()\n",
    "storage = Storage(config)\n",
    "\n",
    "# Escolher fonte de dados\n",
    "USE_POSTGRES = False  # Altere para False para usar CSV\n",
    "CSV_FILE = \"../data/trading ops/June/29/daily ops/signals_2025-06-29.csv\"  # Especifique o arquivo CSV se necessário\n",
    "\n",
    "print(f\"📊 Carregando dados de: {'PostgreSQL' if USE_POSTGRES else 'CSV'}\")\n"
   ]
  },
  {
   "cell_type": "code",
   "execution_count": 11,
   "metadata": {},
   "outputs": [
    {
     "name": "stdout",
     "output_type": "stream",
     "text": [
      "Arquivo existe? True\n"
     ]
    }
   ],
   "source": [
    "from pathlib import Path\n",
    "print(\"Arquivo existe?\", Path(CSV_FILE).exists())"
   ]
  },
  {
   "cell_type": "code",
   "execution_count": 12,
   "metadata": {},
   "outputs": [
    {
     "name": "stdout",
     "output_type": "stream",
     "text": [
      "📊 Carregados 252 sinais do CSV\n",
      "✅ Dados carregados: 252 sinais\n",
      "📅 Período: 2025-06-29 06:02:06-03:00 até 2025-06-29 23:55:06-03:00\n"
     ]
    }
   ],
   "source": [
    "# Carregar dados\n",
    "if USE_POSTGRES:\n",
    "    # Carregar do PostgreSQL (últimos 30 dias)\n",
    "    end_date = datetime.now()\n",
    "    start_date = end_date - timedelta(days=30)\n",
    "    \n",
    "    signals = storage.load_from_postgres(start_date, end_date)\n",
    "    print(f\"📊 Carregados {len(signals)} sinais do PostgreSQL\")\n",
    "else:\n",
    "    # Carregar do CSV\n",
    "    signals = storage.load_from_csv(CSV_FILE)\n",
    "    print(f\"📊 Carregados {len(signals)} sinais do CSV\")\n",
    "\n",
    "if not signals:\n",
    "    print(\"❌ Nenhum dado encontrado! Verifique a configuração.\")\n",
    "else:\n",
    "    print(f\"✅ Dados carregados: {len(signals)} sinais\")\n",
    "    print(f\"📅 Período: {min(s.timestamp for s in signals)} até {max(s.timestamp for s in signals)}\")\n"
   ]
  },
  {
   "cell_type": "raw",
   "metadata": {
    "vscode": {
     "languageId": "raw"
    }
   },
   "source": [
    "## 💰 Simulação P&L com Gestão Martingale\n",
    "\n",
    "Vamos calcular o P&L usando a gestão Martingale (1-2-4):\n",
    "- Win: sempre +1 unidade líquida\n",
    "- Loss: sempre -7 unidades (1+2+4)\n"
   ]
  },
  {
   "cell_type": "code",
   "execution_count": 24,
   "metadata": {},
   "outputs": [
    {
     "name": "stdout",
     "output_type": "stream",
     "text": [
      "📊 DataFrame criado: 252 registros\n",
      "💰 P&L Total: R$ -44.00\n",
      "📈 Win Rate: 85.3%\n"
     ]
    },
    {
     "data": {
      "text/html": [
       "<div>\n",
       "<style scoped>\n",
       "    .dataframe tbody tr th:only-of-type {\n",
       "        vertical-align: middle;\n",
       "    }\n",
       "\n",
       "    .dataframe tbody tr th {\n",
       "        vertical-align: top;\n",
       "    }\n",
       "\n",
       "    .dataframe thead th {\n",
       "        text-align: right;\n",
       "    }\n",
       "</style>\n",
       "<table border=\"1\" class=\"dataframe\">\n",
       "  <thead>\n",
       "    <tr style=\"text-align: right;\">\n",
       "      <th></th>\n",
       "      <th>timestamp</th>\n",
       "      <th>date</th>\n",
       "      <th>hour</th>\n",
       "      <th>asset</th>\n",
       "      <th>result</th>\n",
       "      <th>attempt</th>\n",
       "      <th>is_win</th>\n",
       "      <th>is_loss</th>\n",
       "      <th>pnl</th>\n",
       "      <th>pnl_cumulative</th>\n",
       "    </tr>\n",
       "  </thead>\n",
       "  <tbody>\n",
       "    <tr>\n",
       "      <th>0</th>\n",
       "      <td>2025-06-29 06:02:06-03:00</td>\n",
       "      <td>2025-06-29</td>\n",
       "      <td>6</td>\n",
       "      <td>SOL/USDT</td>\n",
       "      <td>W</td>\n",
       "      <td>1</td>\n",
       "      <td>True</td>\n",
       "      <td>False</td>\n",
       "      <td>1</td>\n",
       "      <td>1</td>\n",
       "    </tr>\n",
       "    <tr>\n",
       "      <th>1</th>\n",
       "      <td>2025-06-29 06:08:06-03:00</td>\n",
       "      <td>2025-06-29</td>\n",
       "      <td>6</td>\n",
       "      <td>XRP/USDT</td>\n",
       "      <td>L</td>\n",
       "      <td>0</td>\n",
       "      <td>False</td>\n",
       "      <td>True</td>\n",
       "      <td>-7</td>\n",
       "      <td>-6</td>\n",
       "    </tr>\n",
       "    <tr>\n",
       "      <th>2</th>\n",
       "      <td>2025-06-29 06:10:06-03:00</td>\n",
       "      <td>2025-06-29</td>\n",
       "      <td>6</td>\n",
       "      <td>XRP/USDT</td>\n",
       "      <td>W</td>\n",
       "      <td>1</td>\n",
       "      <td>True</td>\n",
       "      <td>False</td>\n",
       "      <td>1</td>\n",
       "      <td>-5</td>\n",
       "    </tr>\n",
       "    <tr>\n",
       "      <th>3</th>\n",
       "      <td>2025-06-29 06:20:06-03:00</td>\n",
       "      <td>2025-06-29</td>\n",
       "      <td>6</td>\n",
       "      <td>BTC/USDT</td>\n",
       "      <td>W</td>\n",
       "      <td>2</td>\n",
       "      <td>True</td>\n",
       "      <td>False</td>\n",
       "      <td>1</td>\n",
       "      <td>-4</td>\n",
       "    </tr>\n",
       "    <tr>\n",
       "      <th>4</th>\n",
       "      <td>2025-06-29 06:24:06-03:00</td>\n",
       "      <td>2025-06-29</td>\n",
       "      <td>6</td>\n",
       "      <td>XRP/USDT</td>\n",
       "      <td>W</td>\n",
       "      <td>1</td>\n",
       "      <td>True</td>\n",
       "      <td>False</td>\n",
       "      <td>1</td>\n",
       "      <td>-3</td>\n",
       "    </tr>\n",
       "  </tbody>\n",
       "</table>\n",
       "</div>"
      ],
      "text/plain": [
       "                  timestamp        date  hour     asset result  attempt  \\\n",
       "0 2025-06-29 06:02:06-03:00  2025-06-29     6  SOL/USDT      W        1   \n",
       "1 2025-06-29 06:08:06-03:00  2025-06-29     6  XRP/USDT      L        0   \n",
       "2 2025-06-29 06:10:06-03:00  2025-06-29     6  XRP/USDT      W        1   \n",
       "3 2025-06-29 06:20:06-03:00  2025-06-29     6  BTC/USDT      W        2   \n",
       "4 2025-06-29 06:24:06-03:00  2025-06-29     6  XRP/USDT      W        1   \n",
       "\n",
       "   is_win  is_loss  pnl  pnl_cumulative  \n",
       "0    True    False    1               1  \n",
       "1   False     True   -7              -6  \n",
       "2    True    False    1              -5  \n",
       "3    True    False    1              -4  \n",
       "4    True    False    1              -3  "
      ]
     },
     "metadata": {},
     "output_type": "display_data"
    }
   ],
   "source": [
    "# Converter para DataFrame e calcular P&L\n",
    "if signals:\n",
    "    data = []\n",
    "    for signal in signals:\n",
    "        data.append({\n",
    "            'timestamp': signal.timestamp,\n",
    "            'date': signal.timestamp.date(),\n",
    "            'hour': signal.timestamp.hour,\n",
    "            'asset': signal.asset,\n",
    "            'result': signal.result,\n",
    "            'attempt': signal.attempt if signal.attempt else 0,\n",
    "            'is_win': signal.result == 'W',\n",
    "            'is_loss': signal.result == 'L'\n",
    "        })\n",
    "    \n",
    "    df = pd.DataFrame(data)\n",
    "    df['timestamp'] = pd.to_datetime(df['timestamp'])\n",
    "    df = df.sort_values('timestamp')\n",
    "    \n",
    "    # Calcular P&L Martingale\n",
    "    base_amount = 1  # R$ 10 por operação\n",
    "    df['pnl'] = df['is_win'].apply(lambda x: base_amount if x else -7 * base_amount)\n",
    "    df['pnl_cumulative'] = df['pnl'].cumsum()\n",
    "    \n",
    "    print(f\"📊 DataFrame criado: {len(df)} registros\")\n",
    "    print(f\"💰 P&L Total: R$ {df['pnl'].sum():,.2f}\")\n",
    "    print(f\"📈 Win Rate: {df['is_win'].mean()*100:.1f}%\")\n",
    "    \n",
    "    display(df.head())\n",
    "else:\n",
    "    print(\"❌ Sem dados para análise\")\n"
   ]
  },
  {
   "cell_type": "code",
   "execution_count": 38,
   "metadata": {},
   "outputs": [
    {
     "data": {
      "text/html": [
       "<div>\n",
       "<style scoped>\n",
       "    .dataframe tbody tr th:only-of-type {\n",
       "        vertical-align: middle;\n",
       "    }\n",
       "\n",
       "    .dataframe tbody tr th {\n",
       "        vertical-align: top;\n",
       "    }\n",
       "\n",
       "    .dataframe thead th {\n",
       "        text-align: right;\n",
       "    }\n",
       "</style>\n",
       "<table border=\"1\" class=\"dataframe\">\n",
       "  <thead>\n",
       "    <tr style=\"text-align: right;\">\n",
       "      <th></th>\n",
       "      <th>timestamp</th>\n",
       "      <th>date</th>\n",
       "      <th>hour</th>\n",
       "      <th>asset</th>\n",
       "      <th>result</th>\n",
       "      <th>attempt</th>\n",
       "      <th>is_win</th>\n",
       "      <th>is_loss</th>\n",
       "      <th>pnl</th>\n",
       "      <th>pnl_cumulative</th>\n",
       "    </tr>\n",
       "  </thead>\n",
       "  <tbody>\n",
       "    <tr>\n",
       "      <th>193</th>\n",
       "      <td>2025-06-29 20:00:08-03:00</td>\n",
       "      <td>2025-06-29</td>\n",
       "      <td>20</td>\n",
       "      <td>ADA/USDT</td>\n",
       "      <td>W</td>\n",
       "      <td>1</td>\n",
       "      <td>True</td>\n",
       "      <td>False</td>\n",
       "      <td>1</td>\n",
       "      <td>0</td>\n",
       "    </tr>\n",
       "    <tr>\n",
       "      <th>194</th>\n",
       "      <td>2025-06-29 20:02:06-03:00</td>\n",
       "      <td>2025-06-29</td>\n",
       "      <td>20</td>\n",
       "      <td>XRP/USDT</td>\n",
       "      <td>W</td>\n",
       "      <td>1</td>\n",
       "      <td>True</td>\n",
       "      <td>False</td>\n",
       "      <td>1</td>\n",
       "      <td>1</td>\n",
       "    </tr>\n",
       "    <tr>\n",
       "      <th>195</th>\n",
       "      <td>2025-06-29 20:06:06-03:00</td>\n",
       "      <td>2025-06-29</td>\n",
       "      <td>20</td>\n",
       "      <td>XRP/USDT</td>\n",
       "      <td>W</td>\n",
       "      <td>1</td>\n",
       "      <td>True</td>\n",
       "      <td>False</td>\n",
       "      <td>1</td>\n",
       "      <td>2</td>\n",
       "    </tr>\n",
       "    <tr>\n",
       "      <th>196</th>\n",
       "      <td>2025-06-29 20:11:06-03:00</td>\n",
       "      <td>2025-06-29</td>\n",
       "      <td>20</td>\n",
       "      <td>ETH/USDT</td>\n",
       "      <td>W</td>\n",
       "      <td>1</td>\n",
       "      <td>True</td>\n",
       "      <td>False</td>\n",
       "      <td>1</td>\n",
       "      <td>3</td>\n",
       "    </tr>\n",
       "    <tr>\n",
       "      <th>197</th>\n",
       "      <td>2025-06-29 20:17:06-03:00</td>\n",
       "      <td>2025-06-29</td>\n",
       "      <td>20</td>\n",
       "      <td>ETH/USDT</td>\n",
       "      <td>L</td>\n",
       "      <td>0</td>\n",
       "      <td>False</td>\n",
       "      <td>True</td>\n",
       "      <td>-7</td>\n",
       "      <td>-4</td>\n",
       "    </tr>\n",
       "  </tbody>\n",
       "</table>\n",
       "</div>"
      ],
      "text/plain": [
       "                    timestamp        date  hour     asset result  attempt  \\\n",
       "193 2025-06-29 20:00:08-03:00  2025-06-29    20  ADA/USDT      W        1   \n",
       "194 2025-06-29 20:02:06-03:00  2025-06-29    20  XRP/USDT      W        1   \n",
       "195 2025-06-29 20:06:06-03:00  2025-06-29    20  XRP/USDT      W        1   \n",
       "196 2025-06-29 20:11:06-03:00  2025-06-29    20  ETH/USDT      W        1   \n",
       "197 2025-06-29 20:17:06-03:00  2025-06-29    20  ETH/USDT      L        0   \n",
       "\n",
       "     is_win  is_loss  pnl  pnl_cumulative  \n",
       "193    True    False    1               0  \n",
       "194    True    False    1               1  \n",
       "195    True    False    1               2  \n",
       "196    True    False    1               3  \n",
       "197   False     True   -7              -4  "
      ]
     },
     "execution_count": 38,
     "metadata": {},
     "output_type": "execute_result"
    }
   ],
   "source": [
    "# Filtering ops after 20:00\n",
    "df_20 = df[df['hour'] > 19]\n",
    "\n",
    "# Zerando pnl acumulado do dia\n",
    "df_20['pnl_cumulative'] -= df_20['pnl_cumulative'].iloc[0]\n",
    "\n",
    "df_20.head()"
   ]
  },
  {
   "cell_type": "raw",
   "metadata": {
    "vscode": {
     "languageId": "raw"
    }
   },
   "source": [
    "## 📊 Visualizações\n"
   ]
  },
  {
   "cell_type": "code",
   "execution_count": 35,
   "metadata": {},
   "outputs": [
    {
     "data": {
      "image/png": "[encoded data removed]",
      "text/plain": [
       "<Figure size 1500x1200 with 4 Axes>"
      ]
     },
     "metadata": {},
     "output_type": "display_data"
    },
    {
     "name": "stdout",
     "output_type": "stream",
     "text": [
      "📊 ESTATÍSTICAS RESUMO\n",
      "========================================\n",
      "Total de operações: 59\n",
      "Wins: 52 (88.1%)\n",
      "Losses: 7 (11.9%)\n",
      "P&L Final: R$ 2.00\n",
      "Assets únicos: 5\n",
      "\n",
      "🎯 ANÁLISE DE VIABILIDADE\n",
      "Win rate atual: 88.1%\n",
      "Win rate necessário: 89.4%\n",
      "⚠️ Precisa melhorar 1.3% para ser lucrativo\n"
     ]
    }
   ],
   "source": [
    "if not df_20.empty:\n",
    "    # Configurar figura\n",
    "    fig, axes = plt.subplots(2, 2, figsize=(15, 12))\n",
    "    fig.suptitle('📊 Análise de Sinais do Telegram', fontsize=16, fontweight='bold')\n",
    "    \n",
    "    # 1. P&L Cumulativo\n",
    "    axes[0, 0].plot(df_20.index, df_20['pnl_cumulative'], linewidth=2, color='blue')\n",
    "    axes[0, 0].axhline(y=0, color='red', linestyle='--', alpha=0.7)\n",
    "    axes[0, 0].set_title('💰 P&L Cumulativo (Martingale 1-2-4)')\n",
    "    axes[0, 0].set_xlabel('Operações')\n",
    "    axes[0, 0].set_ylabel('P&L (R$)')\n",
    "    axes[0, 0].grid(True, alpha=0.3)\n",
    "    \n",
    "    # 2. Distribuição de Resultados\n",
    "    result_counts = df_20['result'].value_counts()\n",
    "    colors = ['green' if x == 'W' else 'red' for x in result_counts.index]\n",
    "    axes[0, 1].bar(result_counts.index, result_counts.values, color=colors)\n",
    "    axes[0, 1].set_title('🎯 Distribuição Win/Loss')\n",
    "    axes[0, 1].set_ylabel('Quantidade')\n",
    "    \n",
    "    # 3. Wins por Tentativa\n",
    "    win_attempts = df_20[df_20['is_win']]['attempt'].value_counts().sort_index()\n",
    "    if not win_attempts.empty:\n",
    "        axes[1, 0].bar(win_attempts.index, win_attempts.values, \n",
    "                       color=['lightgreen', 'orange', 'gold'])\n",
    "        axes[1, 0].set_title('🔥 Wins por Tentativa')\n",
    "        axes[1, 0].set_xlabel('Tentativa')\n",
    "        axes[1, 0].set_ylabel('Quantidade')\n",
    "    \n",
    "    # 4. Sinais por Hora\n",
    "    hourly_signals = df_20['hour'].value_counts().sort_index()\n",
    "    axes[1, 1].bar(hourly_signals.index, hourly_signals.values, color='skyblue')\n",
    "    axes[1, 1].set_title('⏰ Sinais por Hora')\n",
    "    axes[1, 1].set_xlabel('Hora')\n",
    "    axes[1, 1].set_ylabel('Quantidade')\n",
    "    \n",
    "    plt.tight_layout()\n",
    "    plt.show()\n",
    "    \n",
    "    # Estatísticas resumo\n",
    "    print(\"📊 ESTATÍSTICAS RESUMO\")\n",
    "    print(\"=\" * 40)\n",
    "    print(f\"Total de operações: {len(df_20)}\")\n",
    "    print(f\"Wins: {df_20['is_win'].sum()} ({df_20['is_win'].mean()*100:.1f}%)\")\n",
    "    print(f\"Losses: {df_20['is_loss'].sum()} ({df_20['is_loss'].mean()*100:.1f}%)\")\n",
    "    print(f\"P&L Final: R$ {df_20['pnl_cumulative'].iloc[-1]:,.2f}\")\n",
    "    print(f\"Assets únicos: {df_20['asset'].nunique()}\")\n",
    "    \n",
    "    # Win rate necessário para breakeven (Martingale 1-2-4 com payout 90%)\n",
    "    required_win_rate = 0.8942  # 89.42%\n",
    "    current_win_rate = df_20['is_win'].mean()\n",
    "    \n",
    "    print(f\"\\n🎯 ANÁLISE DE VIABILIDADE\")\n",
    "    print(f\"Win rate atual: {current_win_rate*100:.1f}%\")\n",
    "    print(f\"Win rate necessário: {required_win_rate*100:.1f}%\")\n",
    "    \n",
    "    if current_win_rate >= required_win_rate:\n",
    "        print(\"✅ Sistema LUCRATIVO!\")\n",
    "    else:\n",
    "        deficit = required_win_rate - current_win_rate\n",
    "        print(f\"⚠️ Precisa melhorar {deficit*100:.1f}% para ser lucrativo\")\n",
    "else:\n",
    "    print(\"❌ Sem dados para visualizar\")\n"
   ]
  },
  {
   "cell_type": "code",
   "execution_count": null,
   "metadata": {},
   "outputs": [],
   "source": []
  }
 ],
 "metadata": {
  "kernelspec": {
   "display_name": "venv",
   "language": "python",
   "name": "venv"
  },
  "language_info": {
   "codemirror_mode": {
    "name": "ipython",
    "version": 3
   },
   "file_extension": ".py",
   "mimetype": "text/x-python",
   "name": "python",
   "nbconvert_exporter": "python",
   "pygments_lexer": "ipython3",
   "version": "3.12.8"
  }
 },
 "nbformat": 4,
 "nbformat_minor": 4
}
