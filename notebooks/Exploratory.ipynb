{
  "cells": [
    {
      "cell_type": "raw",
      "metadata": {
        "vscode": {
          "languageId": "raw"
        }
      },
      "source": [
        "# 📊 Análise de Sinais do Telegram\n",
        "\n",
        "Este notebook analisa os dados coletados pelo **Telegram Signal Collector**.\n",
        "\n",
        "## 🎯 Objetivos\n",
        "- Carregar dados do PostgreSQL ou CSV\n",
        "- Calcular estatísticas de performance\n",
        "- Simular P&L com gestão Martingale (1-2-4)\n",
        "- Visualizar resultados e tendências\n"
      ]
    },
    {
      "cell_type": "code",
      "execution_count": null,
      "metadata": {},
      "outputs": [],
      "source": [
        "# Imports necessários\n",
        "import sys\n",
        "import pandas as pd\n",
        "import numpy as np\n",
        "import matplotlib.pyplot as plt\n",
        "import seaborn as sns\n",
        "from datetime import datetime, timedelta\n",
        "import warnings\n",
        "warnings.filterwarnings('ignore')\n",
        "\n",
        "# Adicionar collector ao path\n",
        "sys.path.append('../')\n",
        "from collector import Config, Storage\n",
        "\n",
        "# Configuração de gráficos\n",
        "plt.style.use('seaborn-v0_8')\n",
        "sns.set_palette(\"husl\")\n",
        "%matplotlib inline\n",
        "\n",
        "print(\"📊 Ambiente configurado!\")\n"
      ]
    },
    {
      "cell_type": "raw",
      "metadata": {
        "vscode": {
          "languageId": "raw"
        }
      },
      "source": [
        "## 📥 Carregar Dados\n"
      ]
    },
    {
      "cell_type": "code",
      "execution_count": null,
      "metadata": {},
      "outputs": [],
      "source": [
        "# Configuração\n",
        "config = Config()\n",
        "storage = Storage(config)\n",
        "\n",
        "# Escolher fonte de dados\n",
        "USE_POSTGRES = config.has_postgres  # Altere para False para usar CSV\n",
        "CSV_FILE = \"data/signals_2025-01-15.csv\"  # Especifique o arquivo CSV se necessário\n",
        "\n",
        "print(f\"📊 Carregando dados de: {'PostgreSQL' if USE_POSTGRES else 'CSV'}\")\n"
      ]
    },
    {
      "cell_type": "code",
      "execution_count": null,
      "metadata": {},
      "outputs": [],
      "source": [
        "# Carregar dados\n",
        "if USE_POSTGRES:\n",
        "    # Carregar do PostgreSQL (últimos 30 dias)\n",
        "    end_date = datetime.now()\n",
        "    start_date = end_date - timedelta(days=30)\n",
        "    \n",
        "    signals = storage.load_from_postgres(start_date, end_date)\n",
        "    print(f\"📊 Carregados {len(signals)} sinais do PostgreSQL\")\n",
        "else:\n",
        "    # Carregar do CSV\n",
        "    signals = storage.load_from_csv(CSV_FILE)\n",
        "    print(f\"📊 Carregados {len(signals)} sinais do CSV\")\n",
        "\n",
        "if not signals:\n",
        "    print(\"❌ Nenhum dado encontrado! Verifique a configuração.\")\n",
        "else:\n",
        "    print(f\"✅ Dados carregados: {len(signals)} sinais\")\n",
        "    print(f\"📅 Período: {min(s.timestamp for s in signals)} até {max(s.timestamp for s in signals)}\")\n"
      ]
    },
    {
      "cell_type": "raw",
      "metadata": {
        "vscode": {
          "languageId": "raw"
        }
      },
      "source": [
        "## 💰 Simulação P&L com Gestão Martingale\n",
        "\n",
        "Vamos calcular o P&L usando a gestão Martingale (1-2-4):\n",
        "- Win: sempre +1 unidade líquida\n",
        "- Loss: sempre -7 unidades (1+2+4)\n"
      ]
    },
    {
      "cell_type": "code",
      "execution_count": null,
      "metadata": {},
      "outputs": [],
      "source": [
        "# Converter para DataFrame e calcular P&L\n",
        "if signals:\n",
        "    data = []\n",
        "    for signal in signals:\n",
        "        data.append({\n",
        "            'timestamp': signal.timestamp,\n",
        "            'date': signal.timestamp.date(),\n",
        "            'hour': signal.timestamp.hour,\n",
        "            'asset': signal.asset,\n",
        "            'result': signal.result,\n",
        "            'attempt': signal.attempt if signal.attempt else 0,\n",
        "            'is_win': signal.result == 'W',\n",
        "            'is_loss': signal.result == 'L'\n",
        "        })\n",
        "    \n",
        "    df = pd.DataFrame(data)\n",
        "    df['timestamp'] = pd.to_datetime(df['timestamp'])\n",
        "    df = df.sort_values('timestamp')\n",
        "    \n",
        "    # Calcular P&L Martingale\n",
        "    base_amount = 10  # R$ 10 por operação\n",
        "    df['pnl'] = df['is_win'].apply(lambda x: base_amount if x else -7 * base_amount)\n",
        "    df['pnl_cumulative'] = df['pnl'].cumsum()\n",
        "    \n",
        "    print(f\"📊 DataFrame criado: {len(df)} registros\")\n",
        "    print(f\"💰 P&L Total: R$ {df['pnl'].sum():,.2f}\")\n",
        "    print(f\"📈 Win Rate: {df['is_win'].mean()*100:.1f}%\")\n",
        "    \n",
        "    display(df.head())\n",
        "else:\n",
        "    print(\"❌ Sem dados para análise\")\n"
      ]
    },
    {
      "cell_type": "raw",
      "metadata": {
        "vscode": {
          "languageId": "raw"
        }
      },
      "source": [
        "## 📊 Visualizações\n"
      ]
    },
    {
      "cell_type": "code",
      "execution_count": null,
      "metadata": {},
      "outputs": [],
      "source": [
        "if not df.empty:\n",
        "    # Configurar figura\n",
        "    fig, axes = plt.subplots(2, 2, figsize=(15, 12))\n",
        "    fig.suptitle('📊 Análise de Sinais do Telegram', fontsize=16, fontweight='bold')\n",
        "    \n",
        "    # 1. P&L Cumulativo\n",
        "    axes[0, 0].plot(df.index, df['pnl_cumulative'], linewidth=2, color='blue')\n",
        "    axes[0, 0].axhline(y=0, color='red', linestyle='--', alpha=0.7)\n",
        "    axes[0, 0].set_title('💰 P&L Cumulativo (Martingale 1-2-4)')\n",
        "    axes[0, 0].set_xlabel('Operações')\n",
        "    axes[0, 0].set_ylabel('P&L (R$)')\n",
        "    axes[0, 0].grid(True, alpha=0.3)\n",
        "    \n",
        "    # 2. Distribuição de Resultados\n",
        "    result_counts = df['result'].value_counts()\n",
        "    colors = ['green' if x == 'W' else 'red' for x in result_counts.index]\n",
        "    axes[0, 1].bar(result_counts.index, result_counts.values, color=colors)\n",
        "    axes[0, 1].set_title('🎯 Distribuição Win/Loss')\n",
        "    axes[0, 1].set_ylabel('Quantidade')\n",
        "    \n",
        "    # 3. Wins por Tentativa\n",
        "    win_attempts = df[df['is_win']]['attempt'].value_counts().sort_index()\n",
        "    if not win_attempts.empty:\n",
        "        axes[1, 0].bar(win_attempts.index, win_attempts.values, \n",
        "                       color=['lightgreen', 'orange', 'gold'])\n",
        "        axes[1, 0].set_title('🔥 Wins por Tentativa')\n",
        "        axes[1, 0].set_xlabel('Tentativa')\n",
        "        axes[1, 0].set_ylabel('Quantidade')\n",
        "    \n",
        "    # 4. Sinais por Hora\n",
        "    hourly_signals = df['hour'].value_counts().sort_index()\n",
        "    axes[1, 1].bar(hourly_signals.index, hourly_signals.values, color='skyblue')\n",
        "    axes[1, 1].set_title('⏰ Sinais por Hora')\n",
        "    axes[1, 1].set_xlabel('Hora')\n",
        "    axes[1, 1].set_ylabel('Quantidade')\n",
        "    \n",
        "    plt.tight_layout()\n",
        "    plt.show()\n",
        "    \n",
        "    # Estatísticas resumo\n",
        "    print(\"📊 ESTATÍSTICAS RESUMO\")\n",
        "    print(\"=\" * 40)\n",
        "    print(f\"Total de operações: {len(df)}\")\n",
        "    print(f\"Wins: {df['is_win'].sum()} ({df['is_win'].mean()*100:.1f}%)\")\n",
        "    print(f\"Losses: {df['is_loss'].sum()} ({df['is_loss'].mean()*100:.1f}%)\")\n",
        "    print(f\"P&L Final: R$ {df['pnl_cumulative'].iloc[-1]:,.2f}\")\n",
        "    print(f\"Assets únicos: {df['asset'].nunique()}\")\n",
        "    \n",
        "    # Win rate necessário para breakeven (Martingale 1-2-4 com payout 90%)\n",
        "    required_win_rate = 0.8942  # 89.42%\n",
        "    current_win_rate = df['is_win'].mean()\n",
        "    \n",
        "    print(f\"\\n🎯 ANÁLISE DE VIABILIDADE\")\n",
        "    print(f\"Win rate atual: {current_win_rate*100:.1f}%\")\n",
        "    print(f\"Win rate necessário: {required_win_rate*100:.1f}%\")\n",
        "    \n",
        "    if current_win_rate >= required_win_rate:\n",
        "        print(\"✅ Sistema LUCRATIVO!\")\n",
        "    else:\n",
        "        deficit = required_win_rate - current_win_rate\n",
        "        print(f\"⚠️ Precisa melhorar {deficit*100:.1f}% para ser lucrativo\")\n",
        "else:\n",
        "    print(\"❌ Sem dados para visualizar\")\n"
      ]
    }
  ],
  "metadata": {
    "language_info": {
      "name": "python"
    }
  },
  "nbformat": 4,
  "nbformat_minor": 2
}
